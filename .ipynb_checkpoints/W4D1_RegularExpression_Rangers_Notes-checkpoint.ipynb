{
 "cells": [
  {
   "cell_type": "markdown",
   "metadata": {},
   "source": [
    "# Regular Expressions"
   ]
  },
  {
   "cell_type": "markdown",
   "metadata": {},
   "source": [
    "# Tasks today:\n",
    "1) <b>Importing</b> <br>\n",
    "2) <b>Using Regular Expressions</b> <br>\n",
    " &nbsp;&nbsp;&nbsp;&nbsp; a) re.compile() <br>\n",
    " &nbsp;&nbsp;&nbsp;&nbsp; b) re.match() <br>\n",
    " &nbsp;&nbsp;&nbsp;&nbsp; c) re.findall() <br>\n",
    " &nbsp;&nbsp;&nbsp;&nbsp; d) re.search() <br>\n",
    "3) <b>Sets</b> <br>\n",
    " &nbsp;&nbsp;&nbsp;&nbsp; a) Integer Ranges <br>\n",
    " &nbsp;&nbsp;&nbsp;&nbsp; b) Character Ranges <br>\n",
    "4) <b>Counting Occurences</b> <br>\n",
    " &nbsp;&nbsp;&nbsp;&nbsp; a) {x} <br>\n",
    " &nbsp;&nbsp;&nbsp;&nbsp; b) {, x} <br>\n",
    " &nbsp;&nbsp;&nbsp;&nbsp; c) {?} <br>\n",
    " &nbsp;&nbsp;&nbsp;&nbsp; d) {*} <br>\n",
    " &nbsp;&nbsp;&nbsp;&nbsp; e) {+} <br>\n",
    "5) <b>In-Class Exercise #1</b> <br>\n",
    "6) <b>Escaping Characters</b> <br>\n",
    "7) <b>Grouping</b> <br>\n",
    "8) <b>In-Class Exercise #2</b> <br>\n",
    "9) <b>Opening a File</b> <br>\n",
    " &nbsp;&nbsp;&nbsp;&nbsp; a) open() <br>\n",
    " &nbsp;&nbsp;&nbsp;&nbsp; b) with open() <br>\n",
    " &nbsp;&nbsp;&nbsp;&nbsp; c) re.match() <br>\n",
    " &nbsp;&nbsp;&nbsp;&nbsp; d) re.search() <br>\n",
    " &nbsp;&nbsp;&nbsp;&nbsp; e) Store the String in a Variable <br>\n",
    "10) <b>Regex Project</b> <br>"
   ]
  },
  {
   "cell_type": "markdown",
   "metadata": {},
   "source": [
    "### Importing <br>\n",
    "<p>Regular Expressions are universal throughout most programming languages... They are generally imported through the module 're'.</p>"
   ]
  },
  {
   "cell_type": "code",
   "execution_count": null,
   "metadata": {},
   "outputs": [],
   "source": [
    "# import re\n",
    "import re"
   ]
  },
  {
   "cell_type": "markdown",
   "metadata": {},
   "source": [
    "### Using Regular Expressions <br>\n",
    "<p>Regular expressions give us the ability to search for patterns within text, strings, files, etc. They serve several uses, such as; security measures, searching, filtering, pattern recognition, and more...</p>"
   ]
  },
  {
   "cell_type": "markdown",
   "metadata": {},
   "source": [
    "##### re.compile()"
   ]
  },
  {
   "cell_type": "code",
   "execution_count": null,
   "metadata": {},
   "outputs": [],
   "source": [
    "# using compile, pre determines the string to be used in regular expression methods\n",
    "pattern = re.compile(\"abcd\")"
   ]
  },
  {
   "cell_type": "markdown",
   "metadata": {},
   "source": [
    "##### re.match()"
   ]
  },
  {
   "cell_type": "code",
   "execution_count": null,
   "metadata": {},
   "outputs": [],
   "source": [
    "# return the first match and then stop\n",
    "# if it doesnt immediately find a matched pattern it will stop searching\n",
    "match = pattern.match('abcd123')\n",
    "print(match)\n",
    "\n",
    "# Accessing the span of the match\n",
    "print(match.span())\n",
    "help(re.match)"
   ]
  },
  {
   "cell_type": "code",
   "execution_count": null,
   "metadata": {},
   "outputs": [],
   "source": [
    "pattern_2 = re.compile(\"1234\")\n",
    "\n",
    "match_2 = pattern_2.match('21234')\n",
    "print(match_2)"
   ]
  },
  {
   "cell_type": "markdown",
   "metadata": {},
   "source": [
    "##### re.findall()"
   ]
  },
  {
   "cell_type": "code",
   "execution_count": null,
   "metadata": {},
   "outputs": [],
   "source": [
    "# return a list of matches\n",
    "pattern = re.compile(\"abcd\")\n",
    "finders = pattern.findall('123abcd abcd123 abcabc acb 1abcd2')\n",
    "print(finders)\n",
    "help(re.findall)"
   ]
  },
  {
   "cell_type": "markdown",
   "metadata": {},
   "source": [
    "##### re.search()"
   ]
  },
  {
   "cell_type": "code",
   "execution_count": null,
   "metadata": {},
   "outputs": [],
   "source": [
    "help(re.search)\n",
    "pattern_3 = re.compile('abcd')\n",
    "\n",
    "random_string = '123 123 234 abcd abcd'\n",
    "search = pattern_3.search(random_string)\n",
    "\n",
    "print(search)\n",
    "span = search.span()\n",
    "print(span)\n",
    "print(span, type(span))\n",
    "print(random_string[span[0] : span[1]])\n",
    "print(random_string[12:16])"
   ]
  },
  {
   "cell_type": "markdown",
   "metadata": {},
   "source": [
    "### Sets <br>\n",
    "<p>The following cells will allow you to use regular expressions to search for certain values within a range such as numbers 1 through 4.</p>"
   ]
  },
  {
   "cell_type": "markdown",
   "metadata": {},
   "source": [
    "##### [a-z] or [A-Z] - any lowercase/uppercase letters from a to z<br/>[^2] - anything that's not 2"
   ]
  },
  {
   "cell_type": "markdown",
   "metadata": {},
   "source": [
    "##### Integer Ranges"
   ]
  },
  {
   "cell_type": "code",
   "execution_count": null,
   "metadata": {},
   "outputs": [],
   "source": [
    "pattern_int = re.compile('[0-7][7-9][0-3]')\n",
    "\n",
    "random_numbers = pattern_int.search('67383')\n",
    "print(random_numbers)\n",
    "span = random_numbers.span()\n",
    "print(span)\n",
    "print(random_numbers[0])"
   ]
  },
  {
   "cell_type": "code",
   "execution_count": null,
   "metadata": {},
   "outputs": [],
   "source": [
    "pattern_int2 = re.compile('[0-4][2-6][5-9]')\n",
    "random_numbers2 = pattern_int2.search('71535812')\n",
    "span = random_numbers2.span()\n",
    "print(span)\n",
    "print(random_numbers2)\n",
    "print(random_numbers2[0])\n",
    "print(type(random_numbers2))\n",
    "print(type(random_numbers[0]))\n",
    "# print(random_numbers2.match())\n"
   ]
  },
  {
   "cell_type": "markdown",
   "metadata": {},
   "source": [
    "##### Character Ranges"
   ]
  },
  {
   "cell_type": "code",
   "execution_count": null,
   "metadata": {},
   "outputs": [],
   "source": [
    "char_pattern = re.compile('[A-Z][a-z][a-z][a-z]')\n",
    "\n",
    "found = char_pattern.findall('Hello There, General Kenobi')\n",
    "print(found)\n",
    "help(re.compile)"
   ]
  },
  {
   "cell_type": "markdown",
   "metadata": {},
   "source": [
    "### Counting Occurences"
   ]
  },
  {
   "cell_type": "markdown",
   "metadata": {},
   "source": [
    "##### {x} - something that occurs {num_of_times}"
   ]
  },
  {
   "cell_type": "code",
   "execution_count": null,
   "metadata": {},
   "outputs": [],
   "source": [
    "char_pattern_count = re.compile('[A-Z]{2}[0-9]')\n",
    "found_count = char_pattern_count.findall('BB8 is pretty cool but I have always preferred R2D2 and C3P0 if I had a driod I would name it, PP4')\n",
    "print(found_count)                                  "
   ]
  },
  {
   "cell_type": "code",
   "execution_count": null,
   "metadata": {},
   "outputs": [],
   "source": [
    "char_count = re.compile('[A-Z][a-z]{3}')\n",
    "statement = char_count.findall('some people in this class have names with only 4 letters like Alex, Ryan, John, Nate')\n",
    "print(statement)"
   ]
  },
  {
   "cell_type": "markdown",
   "metadata": {},
   "source": [
    "##### {x, x} - something that occurs between x and x times"
   ]
  },
  {
   "cell_type": "code",
   "execution_count": null,
   "metadata": {},
   "outputs": [],
   "source": [
    "random_pattern = re.compile('m{1,5}')\n",
    "random_statement = random_pattern.findall(\"This is an example of trying to find some ms. We need a lot of mms and mmms and mmmms and mmmmms and mmmmmmmmmmsmmmmmsmmmmsmmsmmsmsms\")\n",
    "print(random_statement)"
   ]
  },
  {
   "cell_type": "code",
   "execution_count": null,
   "metadata": {},
   "outputs": [],
   "source": [
    "random_pattern = re.compile('[0-9]{7,11}')\n",
    "found_numbers = random_pattern.findall('Which of these are phone numbers: 7732027654 1234567 6308528209')\n",
    "print(found_numbers)"
   ]
  },
  {
   "cell_type": "markdown",
   "metadata": {},
   "source": [
    "##### ? - something that occurs 0 or 1 time"
   ]
  },
  {
   "cell_type": "code",
   "execution_count": null,
   "metadata": {},
   "outputs": [],
   "source": [
    "#optional\n",
    "pattern = re.compile('[A-Z]?[a-z]{4}')\n",
    "\n",
    "found_pat = pattern.findall('Hello my name is ryan and I like to party and also James is here')\n",
    "print(found_pat)\n"
   ]
  },
  {
   "cell_type": "code",
   "execution_count": null,
   "metadata": {},
   "outputs": [],
   "source": [
    "pattern = re.compile('[A-z]?[0-9]')\n",
    "\n",
    "found_pat = pattern.findall('I am c3P0 Human Cyborg relations and this is my coutnerpart, R2D2 bee boop boop also 1')\n",
    "print(found_pat)"
   ]
  },
  {
   "cell_type": "markdown",
   "metadata": {},
   "source": [
    "##### * - something that occurs at least 0 times"
   ]
  },
  {
   "cell_type": "code",
   "execution_count": null,
   "metadata": {},
   "outputs": [],
   "source": [
    "# .* ---> wild cart to grab ANY character happening 0 to many times. \n",
    "\n",
    "pattern = re.compile('[A-Z][a-z]*')\n",
    "\n",
    "found_pat = pattern.findall('Hello I am General Kenobi, leader of the Army of the Republic')\n",
    "\n",
    "print(found_pat)\n"
   ]
  },
  {
   "cell_type": "code",
   "execution_count": null,
   "metadata": {},
   "outputs": [],
   "source": [
    "pattern = re.compile('[0-9][0-9]*')\n",
    "\n",
    "found_pat = pattern.findall(\"This is a list of phone numbers: 6308528209 6304939808 6309631821 9 912\")\n",
    "print(found_pat)"
   ]
  },
  {
   "cell_type": "markdown",
   "metadata": {},
   "source": [
    "##### + - something that occurs at least once"
   ]
  },
  {
   "cell_type": "code",
   "execution_count": null,
   "metadata": {},
   "outputs": [],
   "source": [
    "pattern = re.compile('[0-9]+')\n",
    "\n",
    "found_pat = pattern.findall(\"This is a list of phone numbers: 6308528209 6304939808 6309631821\")\n",
    "print(found_pat)"
   ]
  },
  {
   "cell_type": "code",
   "execution_count": null,
   "metadata": {},
   "outputs": [],
   "source": [
    "pattern = re.compile('M+s')\n",
    "found_m = pattern.findall('MMMs naMe is Ms SMith. These are Ms MMs MMMs MMMMs')\n",
    "print(found_m)"
   ]
  },
  {
   "cell_type": "markdown",
   "metadata": {},
   "source": [
    "##### In-class exercise 1: \n",
    "\n",
    "Use a regular expression to find every number in the given string"
   ]
  },
  {
   "cell_type": "code",
   "execution_count": null,
   "metadata": {},
   "outputs": [],
   "source": [
    "my_string = \"This string has 10909090 numbers, but it is only 1 string. I hope you solve this 2day.\"\n",
    "pattern = re.compile('[0-9]+')\n",
    "my_string = \"This string has 10909090 numbers, but it is only 1 string. I hope you solve this 2day.\"\n",
    "found_pat = pattern.findall(my_string)\n",
    "print(found_pat)"
   ]
  },
  {
   "cell_type": "code",
   "execution_count": null,
   "metadata": {},
   "outputs": [],
   "source": []
  },
  {
   "cell_type": "markdown",
   "metadata": {},
   "source": [
    "### Escaping Characters"
   ]
  },
  {
   "cell_type": "markdown",
   "metadata": {},
   "source": [
    "##### \\w - look for any Unicode character<br/>\\W - look for anything that isnt a Unicode character\n",
    "\n",
    "[History on Unicode](http://unicode.org/standard/WhatIsUnicode.html)\n",
    "\n",
    "[More on Unicode Characters](https://en.wikipedia.org/wiki/List_of_Unicode_characters)"
   ]
  },
  {
   "cell_type": "code",
   "execution_count": null,
   "metadata": {},
   "outputs": [],
   "source": [
    "pattern_1 = re.compile('[\\w]+')\n",
    "pattern_2 = re.compile('[\\W]+')\n",
    "found_1 = pattern_1.findall(\"This is a sentence. With an exclamation point at the end! Also, don't forget to floss!\")\n",
    "found_2 = pattern_2.findall(\"This is a sentence. With an exclamation point at the end! Also, don't forget to floss!\")\n",
    "\n",
    "print(found_1)\n",
    "print(found_2)\n"
   ]
  },
  {
   "cell_type": "markdown",
   "metadata": {},
   "source": [
    "##### \\d - look for any digit 0-9<br/>\\D - look for anything that isnt a digit"
   ]
  },
  {
   "cell_type": "code",
   "execution_count": null,
   "metadata": {},
   "outputs": [],
   "source": [
    "# similar  to [0-9] but cant set ranges\n",
    "pattern_nums = re.compile('\\d{1,2}[a-z]{1,2}')\n",
    "found_date = pattern_nums.findall(\"Today is the 17th tomorrow will be the 18th and in 5 days it will be the 22nd.\")\n",
    "print(found_date)"
   ]
  },
  {
   "cell_type": "code",
   "execution_count": null,
   "metadata": {},
   "outputs": [],
   "source": [
    "pattern_nums = re.compile('\\D+')\n",
    "found_date = pattern_nums.findall(\"Today is the 17th, tomorrow will be the 18th and in 5 days it will be the 22nd.\")\n",
    "print(found_date)"
   ]
  },
  {
   "cell_type": "markdown",
   "metadata": {},
   "source": [
    "##### \\s - look for any white space<br/>\\S - look for anything that isnt whitespace"
   ]
  },
  {
   "cell_type": "code",
   "execution_count": null,
   "metadata": {},
   "outputs": [],
   "source": [
    "pattern_no_space = re.compile('\\S+')\n",
    "                             \n",
    "pattern_space = re.compile('\\s+')\n",
    "found_space = pattern_space.findall(\"Are            you             afraid of the            dark?\")\n",
    "print(found_space)\n",
    "\n",
    "found_nospace = pattern_no_space.findall('Are you afraid of the dark? sa10 , ! G')\n",
    "print(found_nospace)"
   ]
  },
  {
   "cell_type": "markdown",
   "metadata": {},
   "source": [
    "##### \\b - look for boundaries or edges of a word<br/>\\B - look for anything that isnt a boundary"
   ]
  },
  {
   "cell_type": "code",
   "execution_count": null,
   "metadata": {},
   "outputs": [],
   "source": [
    "pattern_bound = re.compile(r'\\bTheCodingTemple\\b')\n",
    "\n",
    "pattern_bound_none = re.compile(r'\\BTheCodingTemple\\B')\n",
    "\n",
    "no_found_bound = pattern_bound_none.findall(\"TheCodingTemple\")\n",
    "print(no_found_bound)\n",
    "\n",
    "found_bound = pattern_bound.findall(\"TheCodingTemple\")\n",
    "print(found_bound)"
   ]
  },
  {
   "cell_type": "code",
   "execution_count": null,
   "metadata": {},
   "outputs": [],
   "source": [
    "new_pattern = re.compile(r\"\\bRyan\\b\")\n",
    "new_pattern2 = re.compile(r\"\\BRyan\\B\")\n",
    "\n",
    "found_pattern = new_pattern.findall('name Ryan name')\n",
    "\n",
    "print(found_pattern)\n",
    "\n",
    "pattern_boundary = new_pattern2.findall('nameRyanname')\n",
    "\n",
    "print(pattern_boundary)\n"
   ]
  },
  {
   "cell_type": "markdown",
   "metadata": {},
   "source": [
    "### Grouping"
   ]
  },
  {
   "cell_type": "code",
   "execution_count": null,
   "metadata": {},
   "outputs": [],
   "source": [
    "my_string = \"Max Smith, aaron rodgers, Sam Darnold, LeBron James, Micheal Jordan, Kevin Durant, Patrick McCormick\"\n",
    "# Creating our groups in our pattern\n",
    "pattern_name = re.compile('([A-Z][\\w]+) ([A-Z][\\w]+)')\n",
    "                                #group1         group2\n",
    "found_names = pattern_name.findall(my_string)\n",
    "print(found_names)\n",
    "\n",
    "for name in my_string.split(','):\n",
    "    match = pattern_name.search(name)\n",
    "    \n",
    "    if match:\n",
    "        print(match.groups())\n",
    "        \n",
    "    else:\n",
    "        print(\"Not a valid name\")\n",
    "    \n",
    "    \n",
    "    \n",
    "    "
   ]
  },
  {
   "cell_type": "markdown",
   "metadata": {},
   "source": [
    "##### In-class Exercise 2:\n",
    "\n",
    "Write a function using regular expressions to find the domain name in the given email addresses (and return None for the invalid email addresses)<br><b>HINT: Use '|' for either or</b>"
   ]
  },
  {
   "cell_type": "code",
   "execution_count": null,
   "metadata": {},
   "outputs": [],
   "source": [
    "my_emails = [\"jordanw@codingtemple.orgcom\", \"pocohontas1776@gmail.com\", \"helloworld@aol..com\",\n",
    "             \"yourfavoriteband@g6.org\", \"@codingtemple.com\"]\n",
    "\n",
    "# You can also use the $ at the end of your compile expression -- this tells us the pattern \n",
    "                                                                #occurs at the end of the string &stops the search\n",
    "\n",
    "#.com OR .org => com|org\n",
    "\n",
    "#Expected output:\n",
    "#None\n",
    "#pocohontas1776@gmail.com\n",
    "#None\n",
    "#yourfavoriteband@g6.org\n",
    "#None\n",
    "\n",
    "pattern_email = re.compile('([a-z]+[0-9]*)@([A-z0-9]+)(.com|.org)')\n",
    "\n",
    "found_emails = pattern_email.findall(my_emails[1])\n",
    "\n",
    "print(found_emails)\n",
    "\n",
    "def validate_email(email):\n",
    "    pattern = re.compile(\"([A-z0-9]+)@([A-z0-9]+).(com|org)$\")\n",
    "    \n",
    "    if pattern.match(email):\n",
    "        return email\n",
    "    else:\n",
    "        return None\n",
    "    \n",
    "for email in my_emails:\n",
    "    print(validate_email(email))\n",
    "\n"
   ]
  },
  {
   "cell_type": "code",
   "execution_count": null,
   "metadata": {},
   "outputs": [],
   "source": [
    "my_names_emails = [\"jordanw@codingtemple.orgcom\", \"pocahontas 1070 riverbend rd pocohontas1776@gmail.com\", \"helloworld@aol..com\",\n",
    "             \"ryan rhoades 123 cool street yourfavoriteband@g6.org\", \"@codingtemple.com\"]"
   ]
  },
  {
   "cell_type": "code",
   "execution_count": null,
   "metadata": {},
   "outputs": [],
   "source": [
    "name_emails = re.compile('^([A-z]+) ([A-z]*).* ([A-z0-9]+)@([A-z0-9]+).(com|org)$')\n",
    "\n",
    "\n",
    "for emails in my_names_emails:\n",
    "    print(name_emails.findall(emails))"
   ]
  },
  {
   "cell_type": "markdown",
   "metadata": {},
   "source": [
    "### Opening a File <br>\n",
    "<p>Python gives us a couple ways to import files, below are the two used most often.</p>"
   ]
  },
  {
   "cell_type": "markdown",
   "metadata": {},
   "source": [
    "##### open()"
   ]
  },
  {
   "cell_type": "code",
   "execution_count": null,
   "metadata": {},
   "outputs": [],
   "source": [
    "f = open(\"names.txt\")\n",
    "\n",
    "data = f.read()\n",
    "\n",
    "print(data)\n",
    "\n",
    "f.close()\n"
   ]
  },
  {
   "cell_type": "markdown",
   "metadata": {},
   "source": [
    "##### with open()"
   ]
  },
  {
   "cell_type": "code",
   "execution_count": null,
   "metadata": {},
   "outputs": [],
   "source": [
    "with open('names.txt') as f:\n",
    "    data = f.read()\n",
    "    print(data)"
   ]
  },
  {
   "cell_type": "markdown",
   "metadata": {},
   "source": [
    "##### re.match()"
   ]
  },
  {
   "cell_type": "code",
   "execution_count": null,
   "metadata": {},
   "outputs": [],
   "source": [
    "print(re.match(\"Vader, Darth\", data))"
   ]
  },
  {
   "cell_type": "markdown",
   "metadata": {},
   "source": [
    "##### re.search()"
   ]
  },
  {
   "cell_type": "code",
   "execution_count": null,
   "metadata": {},
   "outputs": [],
   "source": [
    "print(re.search(\"ryanb@codingtemple.com\", data))"
   ]
  },
  {
   "cell_type": "markdown",
   "metadata": {},
   "source": [
    "##### Store the String to a Variable"
   ]
  },
  {
   "cell_type": "code",
   "execution_count": null,
   "metadata": {},
   "outputs": [],
   "source": [
    "answer = input(\"What would you like to search for?...\")\n",
    "\n",
    "found = re.findall(answer, data)\n",
    "\n",
    "if found:\n",
    "    print(f\"I found your data: {found}\")\n",
    "else:\n",
    "    print(\"That person does not exists!\")"
   ]
  },
  {
   "cell_type": "markdown",
   "metadata": {},
   "source": [
    "### In-Class Exercise #3 <br>\n",
    "<p>Print each persons name and twitter handle, using groups, should look like:</p>\n",
    "<p>==============<br>\n",
    "   Full Name / Twitter<br>\n",
    "   ==============</p>\n",
    "Derek Hawkins / @derekhawkins\n",
    "\n",
    " Erik Sven-Osterberg / @sverik\n",
    "\n",
    " Ryan Butz / @ryanbutz\n",
    "\n",
    " Example Exampleson / @example\n",
    "\n",
    " Ripal Pael / @ripalp\n",
    "\n",
    " Darth Vader / @darthvader"
   ]
  },
  {
   "cell_type": "code",
   "execution_count": null,
   "metadata": {
    "scrolled": true
   },
   "outputs": [],
   "source": [
    "with open(\"names.txt\") as f:\n",
    "    data = f.readlines()\n",
    "    print(data[0])"
   ]
  },
  {
   "cell_type": "markdown",
   "metadata": {},
   "source": [
    "### Regex project\n",
    "\n",
    "Use python to read the file regex_test.txt and print the last name on each line using regular expressions and groups (return None for names with no first and last name, or names that aren't properly capitalized)\n",
    "##### Hint: use with open() and readlines()"
   ]
  },
  {
   "cell_type": "code",
   "execution_count": null,
   "metadata": {},
   "outputs": [],
   "source": [
    "\"\"\"\n",
    "Expected Output\n",
    "Abraham Lincoln\n",
    "Andrew P Garfield\n",
    "Connor Milliken\n",
    "Jordan Alexander Williams\n",
    "None\n",
    "None\n",
    "\"\"\""
   ]
  },
  {
   "cell_type": "code",
   "execution_count": null,
   "metadata": {},
   "outputs": [],
   "source": []
  }
 ],
 "metadata": {
  "kernelspec": {
   "display_name": "Python 3 (ipykernel)",
   "language": "python",
   "name": "python3"
  },
  "language_info": {
   "codemirror_mode": {
    "name": "ipython",
    "version": 3
   },
   "file_extension": ".py",
   "mimetype": "text/x-python",
   "name": "python",
   "nbconvert_exporter": "python",
   "pygments_lexer": "ipython3",
   "version": "3.11.5"
  }
 },
 "nbformat": 4,
 "nbformat_minor": 2
}
